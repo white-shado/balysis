{
 "cells": [
  {
   "cell_type": "code",
   "execution_count": 2,
   "metadata": {},
   "outputs": [],
   "source": [
    "import pandas as pd\n",
    "import numpy as np\n",
    "import openpyxl\n",
    "import pandas_ta as ta\n",
    "import sys\n",
    "sys.path.append (r\"C:\\TheG\\codes\\codes\")\n",
    "import self_code as sc\n",
    "import Utils as ut\n",
    "import glob\n",
    "import warnings\n",
    "warnings.filterwarnings(\"ignore\")"
   ]
  },
  {
   "cell_type": "code",
   "execution_count": 3,
   "metadata": {},
   "outputs": [],
   "source": [
    "nifty_futures = pd.read_csv(r\"D:\\Data\\Indian\\Index\\Futures\\NIFTY-FUT1.csv\")\n",
    "nifty_spot = pd.read_csv(r\"D:\\Data\\Indian\\Index\\Spot\\NIFTY.csv\")"
   ]
  },
  {
   "cell_type": "code",
   "execution_count": 4,
   "metadata": {},
   "outputs": [],
   "source": [
    "nifty_futures = sc.resample(nifty_futures, '1h')\n",
    "nifty_spot = sc.resample(nifty_spot, '1h')"
   ]
  },
  {
   "cell_type": "code",
   "execution_count": 5,
   "metadata": {},
   "outputs": [],
   "source": [
    "# removing high low close\n",
    "nifty_spot = nifty_spot[['open']]\n",
    "nifty_futures = nifty_futures[['open']]\n",
    "nifty_futures.rename(columns = {'open':'nifty futures'}, inplace = True)\n",
    "nifty_spot.rename(columns = {'open':'nifty spot'}, inplace = True)"
   ]
  },
  {
   "cell_type": "code",
   "execution_count": 6,
   "metadata": {},
   "outputs": [],
   "source": [
    "df = pd.merge(nifty_spot, nifty_futures, on = 'datetime', how = 'outer').dropna()"
   ]
  },
  {
   "cell_type": "code",
   "execution_count": 7,
   "metadata": {},
   "outputs": [],
   "source": [
    "df['difference'] = df['nifty futures'] - df['nifty spot']"
   ]
  },
  {
   "cell_type": "code",
   "execution_count": 8,
   "metadata": {},
   "outputs": [
    {
     "name": "stdout",
     "output_type": "stream",
     "text": [
      "The maxima of the dataset is 196.54999999999927\n",
      "The minima of the dataset is -239.9499999999971\n"
     ]
    }
   ],
   "source": [
    "print(f'The maxima of the dataset is {df['difference'].max()}')\n",
    "print(f'The minima of the dataset is {df['difference'].min()}')"
   ]
  },
  {
   "cell_type": "markdown",
   "metadata": {},
   "source": [
    "Assumption is spot shall follow futures"
   ]
  },
  {
   "cell_type": "code",
   "execution_count": 9,
   "metadata": {},
   "outputs": [],
   "source": [
    "# that day function \n",
    "def option_simplify(df, row):\n",
    "    df['datetime'] = df['Date'] + ' ' + df['Time']\n",
    "    df['datetime'] = df['Date'] + ' ' + df['Time']\n",
    "    df['datetime'] = pd.to_datetime(df['datetime']).dt.floor('min')\n",
    "    df = df[df['datetime'] >= row]\n",
    "    df = sc.resample(df, '1h')\n",
    "    return df"
   ]
  },
  {
   "cell_type": "code",
   "execution_count": 16,
   "metadata": {},
   "outputs": [],
   "source": [
    "pnl = pd.DataFrame(columns = ['Type', 'Entry Price', 'Entry Time', 'Exit Price', 'Exit Time', 'Points', 'Pnl'])\n",
    "for i in ['11:15:00', '12:15:00']:\n",
    "    for row, value in df.iterrows():\n",
    "        try:\n",
    "            if str(row.time()) == i:\n",
    "                if sc.StrikePremiumSelector('NIFTY', value['nifty spot'], row, '>=', premium= abs(value['difference']), optionType='CE') == 0:\n",
    "                    continue\n",
    "                if sc.StrikePremiumSelector('NIFTY', value['nifty spot'], row, '>=', premium= abs(value['difference']), optionType='PE') == 0:\n",
    "                    continue\n",
    "                ce = sc.StrikePremiumSelector('NIFTY', value['nifty spot'], row, '>=', premium= abs(value['difference']), optionType='CE')\n",
    "                ce_data = pd.read_csv(r\"D:\\Data\\Indian\\Index\\Options\\nifty options\\{}.csv\".format(ce))\n",
    "                ce_data = option_simplify(ce_data, row)\n",
    "                status = 0\n",
    "                entry_price = 0\n",
    "                entry_time = 0\n",
    "                sl = 0\n",
    "                for idx, val in ce_data.iterrows():\n",
    "                    if status == 0:\n",
    "                        status = 1\n",
    "                        entry_price = val['Close']\n",
    "                        if entry_price < 10:\n",
    "                            break\n",
    "                        entry_time = idx\n",
    "                        sl = entry_price + (value['difference'] * 1.53)\n",
    "                        continue\n",
    "                    elif status == 1 and val['High'] >= sl >= val['Low']:\n",
    "                        pnl.loc[len(pnl)] = [ce, entry_price, entry_time, sl, idx, (entry_price - sl), (entry_price - sl) * 50]\n",
    "                        status = 0\n",
    "                        break\n",
    "                    elif status == 1 and str(idx.time()) == '15:15:00':\n",
    "                        pnl.loc[len(pnl)] = [ce, entry_price, entry_time, val['Open'], idx, (entry_price - val['Open']), (entry_price - val['Open']) * 50]\n",
    "                        status = 0\n",
    "                        break\n",
    "                if entry_price < 10:\n",
    "                    continue\n",
    "                pe = sc.StrikePremiumSelector('NIFTY', value['nifty spot'], row, '>=', premium= abs(value['difference']), optionType='PE')\n",
    "                pe_data = pd.read_csv(r\"D:\\Data\\Indian\\Index\\Options\\nifty options\\{}.csv\".format(pe))\n",
    "                pe_data = option_simplify(pe_data, row)\n",
    "                status = 0\n",
    "                entry_price = 0\n",
    "                entry_time = 0\n",
    "                sl = 0\n",
    "                for idx, val in pe_data.iterrows():\n",
    "                    if status == 0:\n",
    "                        status = 1\n",
    "                        entry_price = val['Close']\n",
    "                        if entry_price < 10:\n",
    "                            break\n",
    "                        entry_time = idx\n",
    "                        sl = entry_price + (value['difference'] * 1.53)\n",
    "                        continue\n",
    "                    elif status == 1 and val['High'] >= sl >= val['Low']:\n",
    "                        pnl.loc[len(pnl)] = [pe, entry_price, entry_time, sl, idx, (entry_price - sl), (entry_price - sl) * 50]\n",
    "                        status = 0\n",
    "                        break\n",
    "                    elif status == 1 and str(idx.time()) == '15:15:00':\n",
    "                        pnl.loc[len(pnl)] = [pe, entry_price, entry_time, val['Open'], idx, (entry_price - val['Open']), (entry_price - val['Open']) * 50]\n",
    "                        status = 0\n",
    "                        break\n",
    "        except Exception as e:\n",
    "            print(e)\n",
    "            continue\n",
    "pnl = pnl.sort_values(by = 'Entry Time')"
   ]
  },
  {
   "cell_type": "code",
   "execution_count": 17,
   "metadata": {},
   "outputs": [
    {
     "data": {
      "text/plain": [
       "<Axes: >"
      ]
     },
     "execution_count": 17,
     "metadata": {},
     "output_type": "execute_result"
    },
    {
     "data": {
      "image/png": "[encoded data removed]",
      "text/plain": [
       "<Figure size 640x480 with 1 Axes>"
      ]
     },
     "metadata": {},
     "output_type": "display_data"
    }
   ],
   "source": [
    "pnl.Pnl.cumsum().plot()"
   ]
  },
  {
   "cell_type": "code",
   "execution_count": 19,
   "metadata": {},
   "outputs": [],
   "source": [
    "sc.final(pnl, r'C:\\work\\balysis\\Self made\\Footoore\\result2 sl.xlsx', capital = 130000)"
   ]
  }
 ],
 "metadata": {
  "kernelspec": {
   "display_name": "Python 3",
   "language": "python",
   "name": "python3"
  },
  "language_info": {
   "codemirror_mode": {
    "name": "ipython",
    "version": 3
   },
   "file_extension": ".py",
   "mimetype": "text/x-python",
   "name": "python",
   "nbconvert_exporter": "python",
   "pygments_lexer": "ipython3",
   "version": "3.12.2"
  }
 },
 "nbformat": 4,
 "nbformat_minor": 2
}
