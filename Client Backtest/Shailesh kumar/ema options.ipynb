{
 "cells": [
  {
   "cell_type": "code",
   "execution_count": 1,
   "metadata": {},
   "outputs": [],
   "source": [
    "import pandas as pd\n",
    "import numpy as np\n",
    "import openpyxl\n",
    "import pandas_ta as ta\n",
    "import sys\n",
    "sys.path.append (r\"C:\\work\\self-research\\self-research\\codes\\codes\")\n",
    "import self_code as sc\n",
    "import Utils as ut\n",
    "import glob\n",
    "import warnings\n",
    "warnings.filterwarnings(\"ignore\")"
   ]
  },
  {
   "cell_type": "code",
   "execution_count": null,
   "metadata": {},
   "outputs": [],
   "source": [
    "nifty = sc.resample(pd.read_csv(r\"D:\\Data\\Indian\\Index\\Spot\\NIFTY.csv\"), '3min' )"
   ]
  },
  {
   "cell_type": "code",
   "execution_count": null,
   "metadata": {},
   "outputs": [],
   "source": [
    "nifty.drop(columns = ['open', 'high', 'low', 'volume'], axis = 1, inplace = True)"
   ]
  },
  {
   "cell_type": "code",
   "execution_count": null,
   "metadata": {},
   "outputs": [],
   "source": [
    "nifty = pd.concat([nifty.between_time('09:15:00', '11:30:00'), nifty.between_time('12:20:00', '15:30:00')])"
   ]
  },
  {
   "cell_type": "code",
   "execution_count": null,
   "metadata": {},
   "outputs": [],
   "source": [
    "nifty = nifty.sort_index()"
   ]
  },
  {
   "cell_type": "code",
   "execution_count": 10,
   "metadata": {},
   "outputs": [],
   "source": [
    "status = 0\n",
    "pnl = pd.DataFrame(columns = ['Type', 'Entry Price', 'Entry Time', 'Exit Price', 'Exit Time', 'Points', 'Pnl'])\n",
    "\n",
    "for row, value in nifty.iterrows():\n",
    "\n",
    "    symbol_ce = ut.prepareWeeklyOptionsSymbol('NIFTY', ut.priceToATM(value['close'], 'NIFTY'), 'CE', row)\n",
    "    symbol_pe = ut.prepareWeeklyOptionsSymbol('NIFTY', ut.priceToATM(value['close'], 'NIFTY'), 'PE', row)\n",
    "    try:\n",
    "        ce_data = sc.options_simplify(pd.read_csv(r\"D:\\Data\\Indian\\Index\\Options\\nifty options\\{}.csv\".format(symbol_ce)))\n",
    "        pe_data = sc.options_simplify(pd.read_csv(r\"D:\\Data\\Indian\\Index\\Options\\nifty options\\{}.csv\".format(symbol_pe)))\n",
    "        \n",
    "        for i in range(3):\n",
    "            if pe_data.index[i].time() in nifty.index.time:\n",
    "                pe_data = pe_data[i:]\n",
    "\n",
    "            if ce_data.index[i].time() in nifty.index.time:\n",
    "                ce_data = ce_data[i:]\n",
    "\n",
    "        ce_data = sc.resample_refined(ce_data, '3min')\n",
    "        pe_data = sc.resample_refined(pe_data, '3min')\n",
    "\n",
    "        ce_data['10ema'] = ta.ema(ce_data.Close, length = 10)\n",
    "        pe_data['10ema'] = ta.ema(pe_data.Close, length = 10)\n",
    "        \n",
    "        ce_data = ce_data[row:]\n",
    "        pe_data = pe_data[row:]\n",
    "        \n",
    "        # first condition check over here\n",
    "        if 0 <= ce_data.iloc[0]['Open'] - ce_data.iloc[0]['Low'] <= 1.1:\n",
    "            status = 1\n",
    "        elif 0 <= pe_data.iloc[0]['Open'] - pe_data.iloc[0]['Low'] <= 1.1:\n",
    "            status = -1\n",
    "        else:\n",
    "            status = 0\n",
    "            continue\n",
    "        \n",
    "        # second condition check over here\n",
    "        if status == 1 and (ce_data.iloc[0]['Close'] < ce_data.iloc[0]['10ema'] or ce_data.iloc[0]['Open'] > ce_data.iloc[0]['10ema']):\n",
    "            status = 0\n",
    "            continue\n",
    "        elif status == -1 and (pe_data.iloc[0]['Close'] < pe_data.iloc[0]['10ema'] or pe_data.iloc[0]['Open'] > pe_data.iloc[0]['10ema']):\n",
    "            status = 0\n",
    "            continue\n",
    "        \n",
    "        # if the size of the candle is > 20 points, no trade\n",
    "        if status == 1 and abs(ce_data.iloc[0]['Close'] - ce_data.iloc[0]['Open']) > 20:\n",
    "            status = 0\n",
    "            continue\n",
    "        elif status == -1 and abs(pe_data.iloc[0]['Close'] - pe_data.iloc[0]['Open']) > 20:\n",
    "            status = 0\n",
    "            continue\n",
    "\n",
    "        # backtesting starting here\n",
    "        if status == 1:\n",
    "            position = 0\n",
    "            entry_price_ce = 0\n",
    "            entry_time_ce = 0\n",
    "            for idx, val in ce_data.iterrows():\n",
    "                if position == 0:\n",
    "                    entry_price_ce = val['Close']\n",
    "                    entry_time_ce = idx\n",
    "                    position = 1\n",
    "                    sl = val['Low'] - 5\n",
    "                    target = entry_price_ce + (2 * (entry_price_ce - sl))\n",
    "                    continue\n",
    "                elif position == 1 and val['High'] >= target >= val['Low']:\n",
    "                    pnl.loc[len(pnl)] = [symbol_ce, entry_price_ce, entry_time_ce, target, idx, (target - entry_price_ce), (target - entry_price_ce) * 50]\n",
    "                    position = 0\n",
    "                    break\n",
    "                elif position == 1 and val['High'] >= sl >= val['Low']:\n",
    "                    pnl.loc[len(pnl)] = [symbol_ce, entry_price_ce, entry_time_ce, sl, idx, (sl - entry_price_ce), (sl - entry_price_ce) * 50]\n",
    "                    position = 0\n",
    "                    break\n",
    "                elif idx == ce_data.index[-1]:\n",
    "                    pnl.loc[len(pnl)] = [symbol_ce, entry_price_ce, entry_time_ce, val['Open'], idx, (val['Open'] - entry_price_ce), (val['Open'] - entry_price_ce) * 50]\n",
    "                    break\n",
    "        elif status == -1:\n",
    "            position = 0\n",
    "            entry_price_pe = 0\n",
    "            entry_time_pe = 0\n",
    "            for idx, val in pe_data.iterrows():\n",
    "                if position == 0:\n",
    "                    entry_price_pe = val['Close']\n",
    "                    entry_time_pe = idx\n",
    "                    position = 1\n",
    "                    sl = val['Low'] - 5\n",
    "                    target = entry_price_pe + (2 * (entry_price_pe - sl))\n",
    "                    continue\n",
    "                elif position == 1 and val['High'] >= target >= val['Low']:\n",
    "                    pnl.loc[len(pnl)] = [symbol_pe, entry_price_pe, entry_time_pe, target, idx, (target - entry_price_pe), (target - entry_price_pe) * 50]\n",
    "                    position = 0\n",
    "                    break\n",
    "                elif position == 1 and val['High'] >= sl >= val['Low']:\n",
    "                    pnl.loc[len(pnl)] = [symbol_pe, entry_price_pe, entry_time_pe, sl, idx, (sl - entry_price_pe), (sl - entry_price_pe) * 50]\n",
    "                    position = 0\n",
    "                    break\n",
    "                elif idx == pe_data.index[-1]:\n",
    "                    pnl.loc[len(pnl)] = [symbol_pe, entry_price_pe, entry_time_pe, val['Open'], idx, (val['Open'] - entry_price_pe), (val['Open'] - entry_price_pe) * 50]\n",
    "                    break\n",
    "\n",
    "\n",
    "    except:\n",
    "        continue"
   ]
  },
  {
   "cell_type": "code",
   "execution_count": null,
   "metadata": {},
   "outputs": [],
   "source": [
    "sc.final(pnl, r'C:\\\\work\\\\balysis\\\\Client Backtest\\\\Shailesh kumar\\\\10-ema strategy.xlsx', capital=50000)"
   ]
  },
  {
   "cell_type": "code",
   "execution_count": 2,
   "metadata": {},
   "outputs": [],
   "source": [
    "df = pd.read_csv('pnl.csv')"
   ]
  },
  {
   "cell_type": "code",
   "execution_count": 5,
   "metadata": {},
   "outputs": [],
   "source": [
    "df.drop('Unnamed: 0', axis = 1, inplace = True)"
   ]
  },
  {
   "cell_type": "code",
   "execution_count": 7,
   "metadata": {},
   "outputs": [],
   "source": [
    "df['Entry Time'] = pd.to_datetime(df['Entry Time'])"
   ]
  },
  {
   "cell_type": "code",
   "execution_count": 9,
   "metadata": {},
   "outputs": [],
   "source": [
    "df['Exit Time'] = pd.to_datetime(df['Exit Time'])"
   ]
  },
  {
   "cell_type": "code",
   "execution_count": 11,
   "metadata": {},
   "outputs": [],
   "source": [
    "sc.final(df, r'C:\\work\\balysis\\Client Backtest\\Shailesh kumar\\result.xlsx', capital = 50000)"
   ]
  }
 ],
 "metadata": {
  "kernelspec": {
   "display_name": "Python 3",
   "language": "python",
   "name": "python3"
  },
  "language_info": {
   "codemirror_mode": {
    "name": "ipython",
    "version": 3
   },
   "file_extension": ".py",
   "mimetype": "text/x-python",
   "name": "python",
   "nbconvert_exporter": "python",
   "pygments_lexer": "ipython3",
   "version": "3.12.2"
  }
 },
 "nbformat": 4,
 "nbformat_minor": 2
}
