{
 "cells": [
  {
   "cell_type": "markdown",
   "metadata": {},
   "source": [
    "# Setup\n",
    "\n",
    "We take 2 EMA\n",
    "EMA - 9\n",
    "EMA - 15\n",
    "\n",
    "We enter at Close of the Crossover\n",
    "\n",
    "We shall optimise the strategy as well"
   ]
  },
  {
   "cell_type": "code",
   "execution_count": 1,
   "metadata": {},
   "outputs": [],
   "source": [
    "import pandas as pd\n",
    "import numpy as np\n",
    "import openpyxl\n",
    "import pandas_ta as ta\n",
    "import sys\n",
    "sys.path.append (r\"C:\\work\\self-research\\self-research\\codes\\codes\")\n",
    "import self_code as sc\n",
    "import Utils as ut\n",
    "import glob\n",
    "import warnings\n",
    "warnings.filterwarnings(\"ignore\")"
   ]
  },
  {
   "cell_type": "markdown",
   "metadata": {},
   "source": [
    "### Importing the data"
   ]
  },
  {
   "cell_type": "code",
   "execution_count": 2,
   "metadata": {},
   "outputs": [],
   "source": [
    "bank_nifty = pd.read_csv(r\"D:\\Data\\Indian\\Index\\Spot\\BANKNIFTY.csv\")\n",
    "\n",
    "# converting timeframe to 10 min timeframe\n",
    "bank_nifty = sc.resample(bank_nifty, '10min')"
   ]
  },
  {
   "cell_type": "markdown",
   "metadata": {},
   "source": [
    "### Applying the indicator"
   ]
  },
  {
   "cell_type": "markdown",
   "metadata": {},
   "source": [
    "pip install pandas_ta"
   ]
  },
  {
   "cell_type": "code",
   "execution_count": 3,
   "metadata": {},
   "outputs": [],
   "source": [
    "bank_nifty['9ema'] = ta.ema(bank_nifty.close, length = 9)\n",
    "bank_nifty['15ema'] = ta.ema(bank_nifty.close, length = 15)"
   ]
  },
  {
   "cell_type": "code",
   "execution_count": 4,
   "metadata": {},
   "outputs": [],
   "source": [
    "bank_nifty.dropna(inplace = True)"
   ]
  },
  {
   "cell_type": "markdown",
   "metadata": {},
   "source": [
    "---\n",
    "### Backtesting "
   ]
  },
  {
   "cell_type": "markdown",
   "metadata": {},
   "source": [
    "\n",
    "##### Here we try to create a synthetic future whenever we get EMA crossover"
   ]
  },
  {
   "cell_type": "code",
   "execution_count": 5,
   "metadata": {},
   "outputs": [],
   "source": [
    "# variables for backtesting\n",
    "status = 0\n",
    "entry_price = 0\n",
    "entry_time = 0\n",
    "row_counter = -1\n",
    "pnl = pd.DataFrame(columns = ['Type', 'Entry Price', 'Entry Time', 'Exit Price', 'Exit Time', 'Points', 'Pnl'])\n",
    "\n",
    "# starting backtesting\n",
    "for row, value in bank_nifty.iterrows():\n",
    "    \n",
    "    # marking the current row using row counter variable\n",
    "    row_counter += 1\n",
    "    \n",
    "    # skipping the first row for trade confirmation\n",
    "    if row_counter == 0:\n",
    "        continue\n",
    "\n",
    "    # condition checking for bullish crossover\n",
    "    if status == 0 and (bank_nifty.iloc[row_counter]['9ema'] > bank_nifty.iloc[row_counter]['15ema']) and (bank_nifty.iloc[row_counter - 1]['9ema'] < bank_nifty.iloc[row_counter - 1]['15ema']):\n",
    "        ce = ut.prepareWeeklyOptionsSymbol('BANKNIFTY', ut.priceToATM(value['close'], 'BANKNIFTY'), 'CE', row)\n",
    "        pe = ut.prepareWeeklyOptionsSymbol('BANKNIFTY', ut.priceToATM(value['close'], 'BANKNIFTY'), 'PE', row)\n",
    "        try:\n",
    "            ce_data = pd.read_csv(r\"D:\\Data\\Indian\\Index\\Options\\banknifty options\\{}.csv\".format(ce))\n",
    "            pe_data = pd.read_csv(r\"D:\\Data\\Indian\\Index\\Options\\banknifty options\\{}.csv\".format(pe))\n",
    "\n",
    "            entry_price_ce = sc.options_simplify(ce_data)[row:].iloc[9]['Close']\n",
    "            entry_price_pe = sc.options_simplify(pe_data)[row:].iloc[9]['Close']\n",
    "            entry_time = row\n",
    "            status = 1\n",
    "\n",
    "        except:\n",
    "            continue\n",
    "    elif status == 1 and (bank_nifty.iloc[row_counter]['9ema'] < bank_nifty.iloc[row_counter]['15ema']) and (bank_nifty.iloc[row_counter - 1]['9ema'] > bank_nifty.iloc[row_counter - 1]['15ema']):\n",
    "        status = 0\n",
    "        try:\n",
    "            exit_price_ce = sc.options_simplify(ce_data)[row:].iloc[9]['Close']\n",
    "            exit_price_pe = sc.options_simplify(pe_data)[row:].iloc[9]['Close']\n",
    "            exit_time = row\n",
    "        except:\n",
    "            exit_price_ce = sc.options_simplify(ce_data).iloc[-1]['Close']\n",
    "            exit_price_pe = sc.options_simplify(pe_data).iloc[-1]['Close']\n",
    "            exit_time = row\n",
    "        # squaring off the synthetic future\n",
    "        pnl.loc[len(pnl)] = [ce, entry_price_ce, entry_time, exit_price_ce, exit_time, (exit_price_ce - entry_price_ce), (exit_price_ce - entry_price_ce) * 25]\n",
    "        pnl.loc[len(pnl)] = [pe, entry_price_pe, entry_time, exit_price_pe, exit_time, (entry_price_pe - exit_price_pe), (entry_price_pe - exit_price_pe) * 25]\n",
    "\n",
    "        ######### stop and reverse ###########\n",
    "        ce = ut.prepareWeeklyOptionsSymbol('BANKNIFTY', ut.priceToATM(value['close'], 'BANKNIFTY'), 'CE', row)\n",
    "        pe = ut.prepareWeeklyOptionsSymbol('BANKNIFTY', ut.priceToATM(value['close'], 'BANKNIFTY'), 'PE', row)\n",
    "        try:\n",
    "            ce_data = pd.read_csv(r\"D:\\Data\\Indian\\Index\\Options\\banknifty options\\{}.csv\".format(ce))\n",
    "            pe_data = pd.read_csv(r\"D:\\Data\\Indian\\Index\\Options\\banknifty options\\{}.csv\".format(pe))\n",
    "\n",
    "            entry_price_ce = sc.options_simplify(ce_data)[row:].iloc[9]['Close']\n",
    "            entry_price_pe = sc.options_simplify(pe_data)[row:].iloc[9]['Close']\n",
    "            entry_time = row\n",
    "            status = -1\n",
    "\n",
    "        except:\n",
    "            continue\n",
    "\n",
    "\n",
    "    # condition checking for bearish crossover\n",
    "    elif status == 0 and (bank_nifty.iloc[row_counter]['9ema'] < bank_nifty.iloc[row_counter]['15ema']) and (bank_nifty.iloc[row_counter - 1]['9ema'] > bank_nifty.iloc[row_counter - 1]['15ema']):\n",
    "        ce = ut.prepareWeeklyOptionsSymbol('BANKNIFTY', ut.priceToATM(value['close'], 'BANKNIFTY'), 'CE', row)\n",
    "        pe = ut.prepareWeeklyOptionsSymbol('BANKNIFTY', ut.priceToATM(value['close'], 'BANKNIFTY'), 'PE', row)\n",
    "        try:\n",
    "            ce_data = pd.read_csv(r\"D:\\Data\\Indian\\Index\\Options\\banknifty options\\{}.csv\".format(ce))\n",
    "            pe_data = pd.read_csv(r\"D:\\Data\\Indian\\Index\\Options\\banknifty options\\{}.csv\".format(pe))\n",
    "\n",
    "            entry_price_ce = sc.options_simplify(ce_data)[row:].iloc[9]['Close']\n",
    "            entry_price_pe = sc.options_simplify(pe_data)[row:].iloc[9]['Close']\n",
    "            entry_time = row\n",
    "            status = -1\n",
    "            \n",
    "        except:\n",
    "            continue\n",
    "    \n",
    "    elif status == -1 and (bank_nifty.iloc[row_counter]['9ema'] > bank_nifty.iloc[row_counter]['15ema']) and (bank_nifty.iloc[row_counter - 1]['9ema'] < bank_nifty.iloc[row_counter - 1]['15ema']):\n",
    "        status = 0\n",
    "        try:\n",
    "            exit_price_ce = sc.options_simplify(ce_data)[row:].iloc[9]['Close']\n",
    "            exit_price_pe = sc.options_simplify(pe_data)[row:].iloc[9]['Close']\n",
    "            exit_time = row\n",
    "        except:\n",
    "            exit_price_ce = sc.options_simplify(ce_data).iloc[-1]['Close']\n",
    "            exit_price_pe = sc.options_simplify(pe_data).iloc[-1]['Close']\n",
    "            exit_time = row\n",
    "        # squaring off the synthetic future\n",
    "        pnl.loc[len(pnl)] = [ce, entry_price_ce, entry_time, exit_price_ce, exit_time, (entry_price_ce - exit_price_ce), (entry_price_ce - exit_price_ce) * 25]\n",
    "        pnl.loc[len(pnl)] = [pe, entry_price_pe, entry_time, exit_price_pe, exit_time, (exit_price_pe - entry_price_pe), (exit_price_pe - entry_price_pe) * 25]\n",
    "        ce = ut.prepareWeeklyOptionsSymbol('BANKNIFTY', ut.priceToATM(value['close'], 'BANKNIFTY'), 'CE', row)\n",
    "        pe = ut.prepareWeeklyOptionsSymbol('BANKNIFTY', ut.priceToATM(value['close'], 'BANKNIFTY'), 'PE', row)\n",
    "        try:\n",
    "            ce_data = pd.read_csv(r\"D:\\Data\\Indian\\Index\\Options\\banknifty options\\{}.csv\".format(ce))\n",
    "            pe_data = pd.read_csv(r\"D:\\Data\\Indian\\Index\\Options\\banknifty options\\{}.csv\".format(pe))\n",
    "\n",
    "            entry_price_ce = sc.options_simplify(ce_data)[row:].iloc[9]['Close']\n",
    "            entry_price_pe = sc.options_simplify(pe_data)[row:].iloc[9]['Close']\n",
    "            entry_time = row\n",
    "            status = 1\n",
    "\n",
    "        except:\n",
    "            continue\n"
   ]
  },
  {
   "cell_type": "code",
   "execution_count": 7,
   "metadata": {},
   "outputs": [],
   "source": [
    "sc.final(pnl, r'C:\\work\\balysis\\Youtube\\Trading Strategies\\EMA Crossover\\result close.xlsx', capital = 150000)"
   ]
  }
 ],
 "metadata": {
  "kernelspec": {
   "display_name": "Python 3",
   "language": "python",
   "name": "python3"
  },
  "language_info": {
   "codemirror_mode": {
    "name": "ipython",
    "version": 3
   },
   "file_extension": ".py",
   "mimetype": "text/x-python",
   "name": "python",
   "nbconvert_exporter": "python",
   "pygments_lexer": "ipython3",
   "version": "3.12.2"
  }
 },
 "nbformat": 4,
 "nbformat_minor": 2
}
