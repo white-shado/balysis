{
 "cells": [
  {
   "cell_type": "markdown",
   "metadata": {},
   "source": [
    "## Setup\n",
    "Universe: Nifty FnO  \n",
    "Positional:   \n",
    "- Entry Time - 09:20 Friday Close  \n",
    "- Exit Time - Expiry day 15:15"
   ]
  },
  {
   "cell_type": "markdown",
   "metadata": {},
   "source": [
    "## Rules\n",
    "\n",
    "Short ATM -> Call option  \n",
    "Short ATM -> Put Option  \n",
    "SL -> 25% of Entry Price"
   ]
  },
  {
   "cell_type": "markdown",
   "metadata": {},
   "source": [
    "----"
   ]
  },
  {
   "cell_type": "markdown",
   "metadata": {},
   "source": [
    "### Importing Libraries"
   ]
  },
  {
   "cell_type": "code",
   "execution_count": 1,
   "metadata": {},
   "outputs": [],
   "source": [
    "import pandas as pd\n",
    "import numpy as np\n",
    "import openpyxl\n",
    "import pandas_ta as ta\n",
    "import sys\n",
    "sys.path.append (r\"C:\\TheG\\codes\\codes\")\n",
    "import self_code as sc\n",
    "import Utils as ut\n",
    "import glob\n",
    "import warnings\n",
    "warnings.filterwarnings(\"ignore\")"
   ]
  },
  {
   "cell_type": "markdown",
   "metadata": {},
   "source": [
    "### Importing Main Dataset"
   ]
  },
  {
   "cell_type": "code",
   "execution_count": 2,
   "metadata": {},
   "outputs": [
    {
     "data": {
      "text/html": [
       "<div>\n",
       "<style scoped>\n",
       "    .dataframe tbody tr th:only-of-type {\n",
       "        vertical-align: middle;\n",
       "    }\n",
       "\n",
       "    .dataframe tbody tr th {\n",
       "        vertical-align: top;\n",
       "    }\n",
       "\n",
       "    .dataframe thead th {\n",
       "        text-align: right;\n",
       "    }\n",
       "</style>\n",
       "<table border=\"1\" class=\"dataframe\">\n",
       "  <thead>\n",
       "    <tr style=\"text-align: right;\">\n",
       "      <th></th>\n",
       "      <th>datetime</th>\n",
       "      <th>open</th>\n",
       "      <th>high</th>\n",
       "      <th>low</th>\n",
       "      <th>close</th>\n",
       "      <th>symbol</th>\n",
       "      <th>volume</th>\n",
       "    </tr>\n",
       "  </thead>\n",
       "  <tbody>\n",
       "    <tr>\n",
       "      <th>0</th>\n",
       "      <td>03-01-2019 09:15</td>\n",
       "      <td>10796.80</td>\n",
       "      <td>10799.5</td>\n",
       "      <td>10770.00</td>\n",
       "      <td>10770.0</td>\n",
       "      <td>NIFTY</td>\n",
       "      <td>0</td>\n",
       "    </tr>\n",
       "    <tr>\n",
       "      <th>1</th>\n",
       "      <td>03-01-2019 09:16</td>\n",
       "      <td>10771.00</td>\n",
       "      <td>10771.0</td>\n",
       "      <td>10755.25</td>\n",
       "      <td>10759.4</td>\n",
       "      <td>NIFTY</td>\n",
       "      <td>0</td>\n",
       "    </tr>\n",
       "    <tr>\n",
       "      <th>2</th>\n",
       "      <td>03-01-2019 09:17</td>\n",
       "      <td>10760.45</td>\n",
       "      <td>10773.1</td>\n",
       "      <td>10759.60</td>\n",
       "      <td>10773.1</td>\n",
       "      <td>NIFTY</td>\n",
       "      <td>0</td>\n",
       "    </tr>\n",
       "  </tbody>\n",
       "</table>\n",
       "</div>"
      ],
      "text/plain": [
       "           datetime      open     high       low    close symbol  volume\n",
       "0  03-01-2019 09:15  10796.80  10799.5  10770.00  10770.0  NIFTY       0\n",
       "1  03-01-2019 09:16  10771.00  10771.0  10755.25  10759.4  NIFTY       0\n",
       "2  03-01-2019 09:17  10760.45  10773.1  10759.60  10773.1  NIFTY       0"
      ]
     },
     "execution_count": 2,
     "metadata": {},
     "output_type": "execute_result"
    }
   ],
   "source": [
    "# importing the dataset of nifty50 index\n",
    "\n",
    "nifty = pd.read_csv(r\"C:\\TheG\\update\\NIFTY.csv\")\n",
    "nifty.head(3)"
   ]
  },
  {
   "cell_type": "markdown",
   "metadata": {},
   "source": [
    "### Data Processing"
   ]
  },
  {
   "cell_type": "code",
   "execution_count": 3,
   "metadata": {},
   "outputs": [
    {
     "data": {
      "text/html": [
       "<div>\n",
       "<style scoped>\n",
       "    .dataframe tbody tr th:only-of-type {\n",
       "        vertical-align: middle;\n",
       "    }\n",
       "\n",
       "    .dataframe tbody tr th {\n",
       "        vertical-align: top;\n",
       "    }\n",
       "\n",
       "    .dataframe thead th {\n",
       "        text-align: right;\n",
       "    }\n",
       "</style>\n",
       "<table border=\"1\" class=\"dataframe\">\n",
       "  <thead>\n",
       "    <tr style=\"text-align: right;\">\n",
       "      <th></th>\n",
       "      <th>open</th>\n",
       "      <th>high</th>\n",
       "      <th>low</th>\n",
       "      <th>close</th>\n",
       "      <th>volume</th>\n",
       "      <th>day</th>\n",
       "    </tr>\n",
       "    <tr>\n",
       "      <th>datetime</th>\n",
       "      <th></th>\n",
       "      <th></th>\n",
       "      <th></th>\n",
       "      <th></th>\n",
       "      <th></th>\n",
       "      <th></th>\n",
       "    </tr>\n",
       "  </thead>\n",
       "  <tbody>\n",
       "    <tr>\n",
       "      <th>2019-01-04 09:20:00</th>\n",
       "      <td>10721.50</td>\n",
       "      <td>10724.70</td>\n",
       "      <td>10720.3</td>\n",
       "      <td>10723.15</td>\n",
       "      <td>0</td>\n",
       "      <td>4</td>\n",
       "    </tr>\n",
       "    <tr>\n",
       "      <th>2019-01-11 09:20:00</th>\n",
       "      <td>10841.20</td>\n",
       "      <td>10850.15</td>\n",
       "      <td>10841.2</td>\n",
       "      <td>10848.40</td>\n",
       "      <td>0</td>\n",
       "      <td>4</td>\n",
       "    </tr>\n",
       "    <tr>\n",
       "      <th>2019-01-18 09:20:00</th>\n",
       "      <td>10915.35</td>\n",
       "      <td>10915.70</td>\n",
       "      <td>10900.9</td>\n",
       "      <td>10902.40</td>\n",
       "      <td>0</td>\n",
       "      <td>4</td>\n",
       "    </tr>\n",
       "  </tbody>\n",
       "</table>\n",
       "</div>"
      ],
      "text/plain": [
       "                         open      high      low     close  volume  day\n",
       "datetime                                                               \n",
       "2019-01-04 09:20:00  10721.50  10724.70  10720.3  10723.15       0    4\n",
       "2019-01-11 09:20:00  10841.20  10850.15  10841.2  10848.40       0    4\n",
       "2019-01-18 09:20:00  10915.35  10915.70  10900.9  10902.40       0    4"
      ]
     },
     "execution_count": 3,
     "metadata": {},
     "output_type": "execute_result"
    }
   ],
   "source": [
    "# resampling the dataframes to 1 minute and having only datapoint of 09:20\n",
    "nifty = sc.resample(nifty, '1min', t1 = '09:20:00', t2 = '09:20:00')\n",
    "\n",
    "# getting day of the week\n",
    "nifty.reset_index(inplace = True)\n",
    "nifty['day'] = nifty['datetime'].dt.weekday\n",
    "nifty = nifty.set_index('datetime')\n",
    "\n",
    "# removing every day except friday\n",
    "nifty = nifty[nifty['day'] == 4]\n",
    "nifty.head(3)"
   ]
  },
  {
   "cell_type": "markdown",
   "metadata": {},
   "source": [
    "### Backtest zone\n",
    "Codes are divided in 3 parts for better understanding, refer to last code directly if you think you are able to understand directly"
   ]
  },
  {
   "cell_type": "markdown",
   "metadata": {},
   "source": [
    "#### Code 1/3"
   ]
  },
  {
   "cell_type": "code",
   "execution_count": 4,
   "metadata": {},
   "outputs": [],
   "source": [
    "# pnl is the tradelog dataframe where we'll store tradelog\n",
    "\n",
    "pnl = pd.DataFrame(columns = ['Type', 'Entry Price', 'Entry Time', 'Exit Price', 'Exit Time', 'Points', 'Pnl'])\n",
    "\n",
    "# starting the loop to iterate one by one over the nifty dataset\n",
    "for row, value in nifty.iterrows():\n",
    "    \n",
    "    # getting the ticker value of 09:20 open at friday to get ATM\n",
    "    symbol_ce = ut.prepareWeeklyOptionsSymbol('NIFTY', ut.priceToATM(value['open']-50, 'NIFTY'), 'CE', row) # this funcation gives ticker name.. Example:- 'NIFTY17JUL9900CE'\n",
    "    symbol_pe = ut.prepareWeeklyOptionsSymbol('NIFTY', ut.priceToATM(value['open']-50, 'NIFTY'), 'PE', row)\n",
    "    \n",
    "    try:\n",
    "        # getting the dataset of this particular symbol\n",
    "        ce = pd.read_csv(r\"C:\\TheG\\update\\{}.csv\".format(symbol_ce))\n",
    "        pe = pd.read_csv(r\"C:\\TheG\\update\\{}.csv\".format(symbol_pe))\n",
    "    except Exception as e:\n",
    "        # if we dont find this symbol, continue\n",
    "        continue\n",
    "    print(ce.head())\n",
    "    break"
   ]
  },
  {
   "cell_type": "code",
   "execution_count": 5,
   "metadata": {},
   "outputs": [
    {
     "name": "stdout",
     "output_type": "stream",
     "text": [
      "2024-01-12 09:20:00\n"
     ]
    }
   ],
   "source": [
    "print(row)"
   ]
  },
  {
   "cell_type": "code",
   "execution_count": 6,
   "metadata": {},
   "outputs": [
    {
     "name": "stdout",
     "output_type": "stream",
     "text": [
      "open      21734.30\n",
      "high      21744.85\n",
      "low       21734.30\n",
      "close     21740.85\n",
      "volume        0.00\n",
      "day           4.00\n",
      "Name: 2024-01-12 09:20:00, dtype: float64\n"
     ]
    }
   ],
   "source": [
    "print(value)"
   ]
  },
  {
   "cell_type": "markdown",
   "metadata": {},
   "source": [
    "#### Code 2/3"
   ]
  },
  {
   "cell_type": "code",
   "execution_count": 8,
   "metadata": {},
   "outputs": [],
   "source": [
    "# pnl is the tradelog dataframe where we'll store tradelog\n",
    "\n",
    "pnl = pd.DataFrame(columns = ['Type', 'Entry Price', 'Entry Time', 'Exit Price', 'Exit Time', 'Points', 'Pnl'])\n",
    "\n",
    "# starting the loop to iterate one by one over the nifty dataset\n",
    "for row, value in nifty.iterrows():\n",
    "    \n",
    "    # getting the ticker value of 09:20 open at friday to get ATM\n",
    "    symbol_ce = ut.prepareWeeklyOptionsSymbol('NIFTY', ut.priceToATM(value['open']-50, 'NIFTY'), 'CE', row) # this funcation gives ticker name.. Example:- 'NIFTY17JUL9900CE'\n",
    "    symbol_pe = ut.prepareWeeklyOptionsSymbol('NIFTY', ut.priceToATM(value['open']-50, 'NIFTY'), 'PE', row)\n",
    "    \n",
    "    try:\n",
    "        # getting the dataset of this particular symbol\n",
    "        ce = pd.read_csv(r\"C:\\TheG\\update\\{}.csv\".format(symbol_ce))\n",
    "        pe = pd.read_csv(r\"C:\\TheG\\update\\{}.csv\".format(symbol_pe))\n",
    "    except Exception as e:\n",
    "        # if we dont find this symbol, continue\n",
    "        continue\n",
    "    \n",
    "    # variable declaration and reset\n",
    "    status = 0\n",
    "    entry_price = 0\n",
    "    entry_time = 0\n",
    "    exit_price = 0\n",
    "    exit_time = 0\n",
    "    # iterating over the call option fro backtesting\n",
    "    for idx, val in ce.iterrows():\n",
    "        \n",
    "        # we'll enter when ce row data datetime is as same as current datetime     - Entry Condition for call option\n",
    "        if status == 0 and val['Date'] == str(row.date()) and val['Time'] == '09:20:59':\n",
    "            status = 1\n",
    "            entry_price = val['Open']\n",
    "            entry_time = val['Date'] + ' ' + val['Time']\n",
    "            continue\n",
    "        # condition for sl hit\n",
    "        elif status == 1 and val['High'] >= 1.25 * entry_price >= val['Low']:\n",
    "            exit_price = 1.25 * entry_price\n",
    "            exit_time = val['Date'] + ' ' + val['Time']\n",
    "            pnl.loc[len(pnl)] = [symbol_ce, entry_price, entry_time, exit_price, exit_time, entry_price - exit_price, (entry_price - exit_price) * 50]\n",
    "            break\n",
    "        # condition for gap up of option price and sl slips \n",
    "        elif status == 1 and val['Open'] >= 1.25 * entry_price:\n",
    "            exit_price = val['Open']\n",
    "            exit_time = val['Date'] + ' ' + val['Time']\n",
    "            pnl.loc[len(pnl)] = [symbol_ce, entry_price, entry_time, exit_price, exit_time, entry_price - exit_price, (entry_price - exit_price) * 50]\n",
    "            break\n",
    "        # final exit at expiry day at 15:25 open\n",
    "        elif status == 1 and ce.iloc[-5]['Date'] == val['Date'] and ce.iloc[-5]['Time'] == val['Time']:\n",
    "            exit_price = val['Open']\n",
    "            exit_time = val['Date'] + ' ' + val['Time']\n",
    "            pnl.loc[len(pnl)] = [symbol_ce, entry_price, entry_time, exit_price, exit_time, entry_price - exit_price, (entry_price - exit_price) * 50]\n",
    "            break"
   ]
  },
  {
   "cell_type": "markdown",
   "metadata": {},
   "source": [
    "#### Code 3/3"
   ]
  },
  {
   "cell_type": "code",
   "execution_count": 4,
   "metadata": {},
   "outputs": [],
   "source": [
    "# pnl is the tradelog dataframe where we'll store tradelog\n",
    "\n",
    "pnl = pd.DataFrame(columns = ['Type', 'Entry Price', 'Entry Time', 'Exit Price', 'Exit Time', 'Points', 'Pnl'])\n",
    "\n",
    "# starting the loop to iterate one by one over the nifty dataset\n",
    "for row, value in nifty.iterrows():\n",
    "    \n",
    "    # getting the ticker value of 09:20 open at friday to get ATM\n",
    "    symbol_ce = ut.prepareWeeklyOptionsSymbol('NIFTY', ut.priceToATM(value['open'], 'NIFTY'), 'CE', row) # this funcation gives ticker name.. Example:- 'NIFTY17JUL9900CE'\n",
    "    symbol_pe = ut.prepareWeeklyOptionsSymbol('NIFTY', ut.priceToATM(value['open'], 'NIFTY'), 'PE', row)\n",
    "    \n",
    "    try:\n",
    "        # getting the dataset of this particular symbol\n",
    "        ce = pd.read_csv(r\"C:\\TheG\\update\\nifty options\\{}.csv\".format(symbol_ce))\n",
    "        pe = pd.read_csv(r\"C:\\TheG\\update\\nifty options\\{}.csv\".format(symbol_pe))\n",
    "    except Exception as e:\n",
    "        # if we dont find this symbol, continue\n",
    "        continue\n",
    "    \n",
    "    # variable declaration and reset\n",
    "    status = 0\n",
    "    entry_price = 0\n",
    "    entry_time = 0\n",
    "    exit_price = 0\n",
    "    exit_time = 0\n",
    "    # iterating over the call option fro backtesting\n",
    "    for idx, val in ce.iterrows():\n",
    "        \n",
    "        # we'll enter when ce row data datetime is as same as current datetime     - Entry Condition for call option\n",
    "        if status == 0 and val['Date'] == str(row.date()) and val['Time'] == '09:20:59':\n",
    "            status = 1\n",
    "            entry_price = val['Open']\n",
    "            entry_time = val['Date'] + ' ' + val['Time']\n",
    "            continue\n",
    "        # condition for sl hit\n",
    "        elif status == 1 and val['High'] >= 1.25 * entry_price >= val['Low']:\n",
    "            exit_price = 1.25 * entry_price\n",
    "            exit_time = val['Date'] + ' ' + val['Time']\n",
    "            pnl.loc[len(pnl)] = [symbol_ce, entry_price, entry_time, exit_price, exit_time, entry_price - exit_price, (entry_price - exit_price) * 50]\n",
    "            break\n",
    "        # condition for gap up of option price and sl slips \n",
    "        elif status == 1 and val['Open'] >= 1.25 * entry_price:\n",
    "            exit_price = val['Open']\n",
    "            exit_time = val['Date'] + ' ' + val['Time']\n",
    "            pnl.loc[len(pnl)] = [symbol_ce, entry_price, entry_time, exit_price, exit_time, entry_price - exit_price, (entry_price - exit_price) * 50]\n",
    "            break\n",
    "        # final exit at expiry day at 15:25 open\n",
    "        elif status == 1 and ce.iloc[-5]['Date'] == val['Date'] and ce.iloc[-5]['Time'] == val['Time']:\n",
    "            exit_price = val['Open']\n",
    "            exit_time = val['Date'] + ' ' + val['Time']\n",
    "            pnl.loc[len(pnl)] = [symbol_ce, entry_price, entry_time, exit_price, exit_time, entry_price - exit_price, (entry_price - exit_price) * 50]\n",
    "            break\n",
    "    \n",
    "    ############################# SIMILAR CODE FOR PUT SIDE ####################################\n",
    "    # variable declaration and reset\n",
    "    status = 0\n",
    "    entry_price = 0\n",
    "    entry_time = 0\n",
    "    exit_price = 0\n",
    "    exit_time = 0\n",
    "    # iterating over the call option fro backtesting\n",
    "    for idx, val in pe.iterrows():\n",
    "        \n",
    "        # we'll enter when pe row data datetime is as same as current datetime     - Entry Condition for call option\n",
    "        if status == 0 and val['Date'] == str(row.date()) and val['Time'] == '09:20:59':\n",
    "            status = 1\n",
    "            entry_price = val['Open']\n",
    "            entry_time = val['Date'] + ' ' + val['Time']\n",
    "            continue\n",
    "        # condition for sl hit\n",
    "        elif status == 1 and val['High'] >= 1.25 * entry_price >= val['Low']:\n",
    "            exit_price = 1.25 * entry_price\n",
    "            exit_time = val['Date'] + ' ' + val['Time']\n",
    "            pnl.loc[len(pnl)] = [symbol_pe, entry_price, entry_time, exit_price, exit_time, entry_price - exit_price, (entry_price - exit_price) * 50]\n",
    "            break\n",
    "        # condition for gap up of option price and sl slips \n",
    "        elif status == 1 and val['Open'] >= 1.25 * entry_price:\n",
    "            exit_price = val['Open']\n",
    "            exit_time = val['Date'] + ' ' + val['Time']\n",
    "            pnl.loc[len(pnl)] = [symbol_pe, entry_price, entry_time, exit_price, exit_time, entry_price - exit_price, (entry_price - exit_price) * 50]\n",
    "            break\n",
    "        # final exit at expiry day at 15:25 open\n",
    "        elif status == 1 and pe.iloc[-5]['Date'] == val['Date'] and pe.iloc[-5]['Time'] == val['Time']:\n",
    "            exit_price = val['Open']\n",
    "            exit_time = val['Date'] + ' ' + val['Time']\n",
    "            pnl.loc[len(pnl)] = [symbol_pe, entry_price, entry_time, exit_price, exit_time, entry_price - exit_price, (entry_price - exit_price) * 50]\n",
    "            break"
   ]
  },
  {
   "cell_type": "code",
   "execution_count": 10,
   "metadata": {},
   "outputs": [
    {
     "data": {
      "text/html": [
       "<div>\n",
       "<style scoped>\n",
       "    .dataframe tbody tr th:only-of-type {\n",
       "        vertical-align: middle;\n",
       "    }\n",
       "\n",
       "    .dataframe tbody tr th {\n",
       "        vertical-align: top;\n",
       "    }\n",
       "\n",
       "    .dataframe thead th {\n",
       "        text-align: right;\n",
       "    }\n",
       "</style>\n",
       "<table border=\"1\" class=\"dataframe\">\n",
       "  <thead>\n",
       "    <tr style=\"text-align: right;\">\n",
       "      <th></th>\n",
       "      <th>Type</th>\n",
       "      <th>Entry Price</th>\n",
       "      <th>Entry Time</th>\n",
       "      <th>Exit Price</th>\n",
       "      <th>Exit Time</th>\n",
       "      <th>Points</th>\n",
       "      <th>Pnl</th>\n",
       "    </tr>\n",
       "  </thead>\n",
       "  <tbody>\n",
       "    <tr>\n",
       "      <th>0</th>\n",
       "      <td>NIFTY19JAN10850CE</td>\n",
       "      <td>128.30</td>\n",
       "      <td>2019-01-25 09:20:59</td>\n",
       "      <td>0.0500</td>\n",
       "      <td>2019-01-31 15:25:59</td>\n",
       "      <td>128.2500</td>\n",
       "      <td>6412.500</td>\n",
       "    </tr>\n",
       "    <tr>\n",
       "      <th>1</th>\n",
       "      <td>NIFTY19JAN10850PE</td>\n",
       "      <td>43.45</td>\n",
       "      <td>2019-01-25 09:20:59</td>\n",
       "      <td>54.3125</td>\n",
       "      <td>2019-01-25 13:34:59</td>\n",
       "      <td>-10.8625</td>\n",
       "      <td>-543.125</td>\n",
       "    </tr>\n",
       "    <tr>\n",
       "      <th>2</th>\n",
       "      <td>NIFTY1922110650CE</td>\n",
       "      <td>135.00</td>\n",
       "      <td>2019-02-15 09:20:59</td>\n",
       "      <td>136.0000</td>\n",
       "      <td>2019-02-21 15:25:59</td>\n",
       "      <td>-1.0000</td>\n",
       "      <td>-50.000</td>\n",
       "    </tr>\n",
       "    <tr>\n",
       "      <th>3</th>\n",
       "      <td>NIFTY1922110650PE</td>\n",
       "      <td>50.00</td>\n",
       "      <td>2019-02-15 09:20:59</td>\n",
       "      <td>62.5000</td>\n",
       "      <td>2019-02-15 10:13:59</td>\n",
       "      <td>-12.5000</td>\n",
       "      <td>-625.000</td>\n",
       "    </tr>\n",
       "  </tbody>\n",
       "</table>\n",
       "</div>"
      ],
      "text/plain": [
       "                Type  Entry Price           Entry Time  Exit Price  \\\n",
       "0  NIFTY19JAN10850CE       128.30  2019-01-25 09:20:59      0.0500   \n",
       "1  NIFTY19JAN10850PE        43.45  2019-01-25 09:20:59     54.3125   \n",
       "2  NIFTY1922110650CE       135.00  2019-02-15 09:20:59    136.0000   \n",
       "3  NIFTY1922110650PE        50.00  2019-02-15 09:20:59     62.5000   \n",
       "\n",
       "             Exit Time    Points       Pnl  \n",
       "0  2019-01-31 15:25:59  128.2500  6412.500  \n",
       "1  2019-01-25 13:34:59  -10.8625  -543.125  \n",
       "2  2019-02-21 15:25:59   -1.0000   -50.000  \n",
       "3  2019-02-15 10:13:59  -12.5000  -625.000  "
      ]
     },
     "execution_count": 10,
     "metadata": {},
     "output_type": "execute_result"
    }
   ],
   "source": [
    "pnl.head(4)"
   ]
  },
  {
   "cell_type": "markdown",
   "metadata": {},
   "source": [
    "### Metric Generation"
   ]
  },
  {
   "cell_type": "code",
   "execution_count": 11,
   "metadata": {},
   "outputs": [],
   "source": [
    "# converting series to datetime like values for metric generation\n",
    "\n",
    "try:\n",
    "    pnl['Entry Time']= pd.to_datetime(pnl['Entry Time'] ,format='%d-%m-%Y %H:%M:%S')\n",
    "    pnl['Exit Time']= pd.to_datetime(pnl['Exit Time'] ,format='%d-%m-%Y %H:%M:%S')\n",
    "except:\n",
    "    pnl['Entry Time']= pd.to_datetime(pnl['Entry Time'] ,format='%Y-%m-%d %H:%M:%S')\n",
    "    pnl['Exit Time']= pd.to_datetime(pnl['Exit Time'] ,format='%Y-%m-%d %H:%M:%S')"
   ]
  },
  {
   "cell_type": "code",
   "execution_count": 12,
   "metadata": {},
   "outputs": [],
   "source": [
    "sc.final(pnl, r'C:\\work\\balysis\\Youtube\\Trading Strategies\\The 09-20 Positional\\result.xlsx', capital = 150000)"
   ]
  }
 ],
 "metadata": {
  "kernelspec": {
   "display_name": "Python 3",
   "language": "python",
   "name": "python3"
  },
  "language_info": {
   "codemirror_mode": {
    "name": "ipython",
    "version": 3
   },
   "file_extension": ".py",
   "mimetype": "text/x-python",
   "name": "python",
   "nbconvert_exporter": "python",
   "pygments_lexer": "ipython3",
   "version": "3.12.2"
  }
 },
 "nbformat": 4,
 "nbformat_minor": 2
}
